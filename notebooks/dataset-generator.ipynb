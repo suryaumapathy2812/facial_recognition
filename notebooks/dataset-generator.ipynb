{
 "cells": [
  {
   "cell_type": "code",
   "execution_count": 1,
   "metadata": {},
   "outputs": [
    {
     "name": "stdout",
     "output_type": "stream",
     "text": [
      "Requirement already satisfied: opencv-python in /Library/Frameworks/Python.framework/Versions/3.12/lib/python3.12/site-packages (4.10.0.84)\n",
      "Requirement already satisfied: dlib in /Library/Frameworks/Python.framework/Versions/3.12/lib/python3.12/site-packages (19.24.6)\n",
      "Requirement already satisfied: face_recognition in /Library/Frameworks/Python.framework/Versions/3.12/lib/python3.12/site-packages (1.3.0)\n",
      "Requirement already satisfied: numpy in /Library/Frameworks/Python.framework/Versions/3.12/lib/python3.12/site-packages (1.26.4)\n",
      "Requirement already satisfied: scikit-learn in /Library/Frameworks/Python.framework/Versions/3.12/lib/python3.12/site-packages (1.4.2)\n",
      "Requirement already satisfied: mtcnn in /Library/Frameworks/Python.framework/Versions/3.12/lib/python3.12/site-packages (0.1.1)\n",
      "Requirement already satisfied: keras-facenet in /Library/Frameworks/Python.framework/Versions/3.12/lib/python3.12/site-packages (0.3.2)\n",
      "Requirement already satisfied: torch in /Library/Frameworks/Python.framework/Versions/3.12/lib/python3.12/site-packages (2.4.0)\n",
      "Requirement already satisfied: joblib in /Library/Frameworks/Python.framework/Versions/3.12/lib/python3.12/site-packages (1.4.0)\n",
      "Requirement already satisfied: face-recognition-models>=0.3.0 in /Library/Frameworks/Python.framework/Versions/3.12/lib/python3.12/site-packages (from face_recognition) (0.3.0)\n",
      "Requirement already satisfied: Click>=6.0 in /Library/Frameworks/Python.framework/Versions/3.12/lib/python3.12/site-packages (from face_recognition) (8.1.7)\n",
      "Requirement already satisfied: Pillow in /Library/Frameworks/Python.framework/Versions/3.12/lib/python3.12/site-packages (from face_recognition) (10.3.0)\n",
      "Requirement already satisfied: scipy>=1.6.0 in /Library/Frameworks/Python.framework/Versions/3.12/lib/python3.12/site-packages (from scikit-learn) (1.13.0)\n",
      "Requirement already satisfied: threadpoolctl>=2.0.0 in /Library/Frameworks/Python.framework/Versions/3.12/lib/python3.12/site-packages (from scikit-learn) (3.4.0)\n",
      "Requirement already satisfied: keras>=2.0.0 in /Library/Frameworks/Python.framework/Versions/3.12/lib/python3.12/site-packages (from mtcnn) (3.4.1)\n",
      "Requirement already satisfied: filelock in /Library/Frameworks/Python.framework/Versions/3.12/lib/python3.12/site-packages (from torch) (3.14.0)\n",
      "Requirement already satisfied: typing-extensions>=4.8.0 in /Library/Frameworks/Python.framework/Versions/3.12/lib/python3.12/site-packages (from torch) (4.12.1)\n",
      "Requirement already satisfied: sympy in /Library/Frameworks/Python.framework/Versions/3.12/lib/python3.12/site-packages (from torch) (1.13.2)\n",
      "Requirement already satisfied: networkx in /Library/Frameworks/Python.framework/Versions/3.12/lib/python3.12/site-packages (from torch) (3.3)\n",
      "Requirement already satisfied: jinja2 in /Library/Frameworks/Python.framework/Versions/3.12/lib/python3.12/site-packages (from torch) (3.1.3)\n",
      "Requirement already satisfied: fsspec in /Library/Frameworks/Python.framework/Versions/3.12/lib/python3.12/site-packages (from torch) (2024.6.0)\n",
      "Requirement already satisfied: setuptools in /Library/Frameworks/Python.framework/Versions/3.12/lib/python3.12/site-packages (from torch) (69.2.0)\n",
      "Requirement already satisfied: absl-py in /Library/Frameworks/Python.framework/Versions/3.12/lib/python3.12/site-packages (from keras>=2.0.0->mtcnn) (2.1.0)\n",
      "Requirement already satisfied: rich in /Library/Frameworks/Python.framework/Versions/3.12/lib/python3.12/site-packages (from keras>=2.0.0->mtcnn) (13.7.1)\n",
      "Requirement already satisfied: namex in /Library/Frameworks/Python.framework/Versions/3.12/lib/python3.12/site-packages (from keras>=2.0.0->mtcnn) (0.0.8)\n",
      "Requirement already satisfied: h5py in /Library/Frameworks/Python.framework/Versions/3.12/lib/python3.12/site-packages (from keras>=2.0.0->mtcnn) (3.11.0)\n",
      "Requirement already satisfied: optree in /Library/Frameworks/Python.framework/Versions/3.12/lib/python3.12/site-packages (from keras>=2.0.0->mtcnn) (0.12.1)\n",
      "Requirement already satisfied: ml-dtypes in /Library/Frameworks/Python.framework/Versions/3.12/lib/python3.12/site-packages (from keras>=2.0.0->mtcnn) (0.3.2)\n",
      "Requirement already satisfied: packaging in /Library/Frameworks/Python.framework/Versions/3.12/lib/python3.12/site-packages (from keras>=2.0.0->mtcnn) (24.0)\n",
      "Requirement already satisfied: MarkupSafe>=2.0 in /Library/Frameworks/Python.framework/Versions/3.12/lib/python3.12/site-packages (from jinja2->torch) (2.1.5)\n",
      "Requirement already satisfied: mpmath<1.4,>=1.1.0 in /Library/Frameworks/Python.framework/Versions/3.12/lib/python3.12/site-packages (from sympy->torch) (1.3.0)\n",
      "Requirement already satisfied: markdown-it-py>=2.2.0 in /Library/Frameworks/Python.framework/Versions/3.12/lib/python3.12/site-packages (from rich->keras>=2.0.0->mtcnn) (3.0.0)\n",
      "Requirement already satisfied: pygments<3.0.0,>=2.13.0 in /Library/Frameworks/Python.framework/Versions/3.12/lib/python3.12/site-packages (from rich->keras>=2.0.0->mtcnn) (2.17.2)\n",
      "Requirement already satisfied: mdurl~=0.1 in /Library/Frameworks/Python.framework/Versions/3.12/lib/python3.12/site-packages (from markdown-it-py>=2.2.0->rich->keras>=2.0.0->mtcnn) (0.1.2)\n"
     ]
    }
   ],
   "source": [
    "!pip3 install opencv-python dlib face_recognition numpy scikit-learn mtcnn keras-facenet torch joblib"
   ]
  },
  {
   "cell_type": "code",
   "execution_count": 2,
   "metadata": {},
   "outputs": [],
   "source": [
    "import os\n",
    "import cv2\n",
    "from mtcnn import MTCNN\n",
    "import matplotlib.pyplot as plt\n",
    "from tensorflow.keras.preprocessing.image import ImageDataGenerator\n",
    "import numpy as np\n",
    "import tensorflow as tf\n",
    "from keras_facenet import FaceNet\n",
    "import logging\n",
    "import torch"
   ]
  },
  {
   "cell_type": "code",
   "execution_count": 3,
   "metadata": {},
   "outputs": [
    {
     "data": {
      "text/plain": [
       "device(type='cpu')"
      ]
     },
     "execution_count": 3,
     "metadata": {},
     "output_type": "execute_result"
    }
   ],
   "source": [
    "device = torch.device('cuda' if torch.cuda.is_available() else 'cpu')\n",
    "device"
   ]
  },
  {
   "cell_type": "code",
   "execution_count": 4,
   "metadata": {},
   "outputs": [],
   "source": [
    "# Suppress TensorFlow logs\n",
    "os.environ['TF_CPP_MIN_LOG_LEVEL'] = '3'  # '0' = all logs, '1' = filter INFO, '2' = filter WARNING, '3' = filter ERROR\n",
    "# Set logging level to ERROR to suppress lower level messages\n",
    "logging.basicConfig(level=logging.ERROR)\n",
    "# Alternatively set TensorFlow logging verbosity directly\n",
    "tf.get_logger().setLevel('ERROR')\n",
    "logging.getLogger('tensorflow').setLevel(logging.ERROR)\n",
    "logging.getLogger('mtcnn').setLevel(logging.ERROR)"
   ]
  },
  {
   "cell_type": "code",
   "execution_count": 5,
   "metadata": {},
   "outputs": [],
   "source": [
    "# Path containing all the the videos\n",
    "video_path = \"./data/recordings/\"\n",
    "videos = os.listdir(video_path)\n",
    "videos\n",
    "\n",
    "frame_output_folder = \"./data/frames/\"\n",
    "augment_output_folder = \"./data/augmented_frames/\""
   ]
  },
  {
   "cell_type": "code",
   "execution_count": 6,
   "metadata": {},
   "outputs": [],
   "source": [
    "# Initialize MTCNN detector\n",
    "detector = MTCNN()\n",
    "embedder = FaceNet()\n",
    "\n",
    "# Initialize ImageDataGenerator\n",
    "datagen = ImageDataGenerator(\n",
    "    rotation_range=20,\n",
    "    width_shift_range=0.2,\n",
    "    height_shift_range=0.2,\n",
    "    shear_range=0.2,\n",
    "    zoom_range=0.2,\n",
    "    horizontal_flip=True,\n",
    "    fill_mode=\"nearest\",\n",
    ")"
   ]
  },
  {
   "cell_type": "code",
   "execution_count": 7,
   "metadata": {},
   "outputs": [],
   "source": [
    "def convert_video_to_frames(label_name, video_path, output_dir,max_frames=200, min_face_width=100, min_face_height=100):\n",
    "    video_capture = cv2.VideoCapture(video_path)\n",
    "    \n",
    "    total_frames = int(video_capture.get(cv2.CAP_PROP_FRAME_COUNT))\n",
    "   \n",
    "    # Set frame sampling rate dynamically based on total number of frames\n",
    "    if total_frames <= max_frames:\n",
    "        frame_interval = 1  # No need to skip frames if video is short\n",
    "    else:\n",
    "        frame_interval = total_frames // max_frames  # Adjust frame sampling rate\n",
    "    \n",
    "    \n",
    "    frame_count = 0\n",
    "    extracted_frames = 0\n",
    "    face_count = 0\n",
    "    while True:\n",
    "        \n",
    "        # Read a single frame from the video\n",
    "        ret, frame = video_capture.read()\n",
    "        if not ret or extracted_frames >= max_frames:\n",
    "            break  # Stop if video ends or we have reached \n",
    "        \n",
    "        \n",
    "        frame_count += 1\n",
    "        # Process every nth frame (e.g., every 10th frame)\n",
    "        if frame_count % frame_interval == 0:\n",
    "            # Convert the frame from BGR (OpenCV format) to RGB (for face_recognition)\n",
    "            rgb_frame = cv2.cvtColor(frame, cv2.COLOR_BGR2RGB)\n",
    "            # Find all face locations in the current frame\n",
    "            face_detections = detector.detect_faces(rgb_frame)\n",
    "\n",
    "            for i, detection in enumerate(face_detections):\n",
    "                x, y, w, h = detection[\"box\"]\n",
    "\n",
    "                if w < min_face_width or h < min_face_height:\n",
    "                    continue\n",
    "\n",
    "                face_image = frame[y : y + h, x : x + w]\n",
    "                face_image_resized = cv2.resize(face_image, (160, 160))\n",
    "                # Save the cropped face image\n",
    "                face_file_name = f\"{label_name}_aug_{i}.jpg\"\n",
    "                face_path = os.path.join(output_dir, face_file_name)\n",
    "                cv2.imwrite(face_path, face_image_resized)\n",
    "                face_count += 1\n",
    "            \n",
    "            extracted_frames += 1  # Only count frames with detected faces\n",
    "            if frame_count % 10 == 0:\n",
    "                print(f\"Processed {frame_count}/{total_frames} frames, extracted {extracted_frames}/{max_frames} so far...\")\n",
    "\n",
    "    # Release the video capture object\n",
    "    video_capture.release()\n",
    "    print(f\"Completed processing {frame_count} frames, extracted {extracted_frames} frames with {face_count} faces.\")"
   ]
  },
  {
   "cell_type": "code",
   "execution_count": 8,
   "metadata": {},
   "outputs": [],
   "source": [
    "def augment_images(label, input_dir, output_dir):\n",
    "    final_output_dir = output_dir + \"/\" + label + \"/\"\n",
    "\n",
    "    if not os.path.exists(final_output_dir):\n",
    "        os.makedirs(final_output_dir)\n",
    "\n",
    "    total_images = len(os.listdir(input_dir))\n",
    "    max_augmentations = 5 if total_images < 100 else 2  # Reduce augmentations if too many images\n",
    "\n",
    "    for idx, img_name in enumerate(os.listdir(input_dir), 1):\n",
    "        img_path = os.path.join(input_dir, img_name)\n",
    "        img = cv2.imread(img_path)\n",
    "\n",
    "        if img is not None:\n",
    "            # Ensure the image is in RGB format\n",
    "            img_rgb = cv2.cvtColor(img, cv2.COLOR_BGR2RGB)\n",
    "\n",
    "            # Reshape to a 4D tensor for the ImageDataGenerator\n",
    "            img = img.reshape((1,) + img_rgb.shape)\n",
    "\n",
    "            i = 0\n",
    "            for batch in datagen.flow(\n",
    "                img,\n",
    "                batch_size=1,\n",
    "                save_to_dir=final_output_dir,\n",
    "                save_prefix=\"aug\",\n",
    "                save_format=\"jpg\",\n",
    "            ):\n",
    "                i += 1\n",
    "                if i >= max_augmentations:  # Generate 5 augmented images per original image\n",
    "                    break\n",
    "        print(f\"Augmented {idx}/{total_images} images\")\n",
    "        \n",
    "    print(f\"Completed augmentation of {total_images} images.\")                "
   ]
  },
  {
   "cell_type": "markdown",
   "metadata": {},
   "source": [
    "## Convert videos into frames and extract faces from the frames"
   ]
  },
  {
   "cell_type": "code",
   "execution_count": null,
   "metadata": {},
   "outputs": [],
   "source": [
    "for _vid in videos:\n",
    "    \n",
    "    if os.path.isfile(_vid)\n",
    "        continue\n",
    "    \n",
    "    label_name = _vid.split(\".\")[0]\n",
    "    student_video_path = video_path + _vid\n",
    "\n",
    "    frame_output_dir = frame_output_folder + label_name\n",
    "    if not os.path.exists(frame_output_dir):\n",
    "        os.makedirs(frame_output_dir)\n",
    "    convert_video_to_frames(label_name, student_video_path, frame_output_dir)"
   ]
  },
  {
   "cell_type": "code",
   "execution_count": 14,
   "metadata": {},
   "outputs": [
    {
     "name": "stdout",
     "output_type": "stream",
     "text": [
      "['shyam', '.DS_Store', 'surya', 'pugal', 'lakshmi']\n"
     ]
    }
   ],
   "source": [
    "framed_images = os.listdir(frame_output_folder)\n",
    "print(framed_images)"
   ]
  },
  {
   "cell_type": "markdown",
   "metadata": {},
   "source": [
    "## Augmenting the faces generated from the frames"
   ]
  },
  {
   "cell_type": "code",
   "execution_count": null,
   "metadata": {},
   "outputs": [],
   "source": [
    "for _vid in videos:\n",
    "\n",
    "    if not _vid.endswith(\".mov\"):\n",
    "        continue\n",
    "    \n",
    "    label_name = _vid.split(\".\")[0]\n",
    "    student_video_path = video_path + _vid\n",
    "\n",
    "    frame_output_dir = frame_output_folder + label_name\n",
    "    augment_output_dir = augment_output_folder\n",
    "    if not os.path.exists(augment_output_dir):\n",
    "        os.makedirs(augment_output_dir)\n",
    "\n",
    "    augment_images(label_name, frame_output_dir, augment_output_dir)"
   ]
  },
  {
   "cell_type": "code",
   "execution_count": 10,
   "metadata": {},
   "outputs": [
    {
     "data": {
      "text/plain": [
       "['shyam', 'surya', 'pugal', 'lakshmi']"
      ]
     },
     "execution_count": 10,
     "metadata": {},
     "output_type": "execute_result"
    }
   ],
   "source": [
    "agumented_images = os.listdir(augment_output_folder)\n",
    "agumented_images"
   ]
  },
  {
   "cell_type": "code",
   "execution_count": null,
   "metadata": {},
   "outputs": [],
   "source": [
    "# Load dataset\n",
    "def generate_embedding_and_label(\n",
    "    folder,label_name,  embeddings_file=\"./model/face_embeddings.npy\", labels_file=\"./model/face_labels.npy\"\n",
    "):\n",
    "\n",
    "    # Load existing embeddings and labels if they exist\n",
    "    if os.path.exists(embeddings_file) and os.path.exists(labels_file):\n",
    "        embeddings = list(np.load(embeddings_file, allow_pickle=True))\n",
    "        labels = list(np.load(labels_file, allow_pickle=True))\n",
    "        print(f\"Loaded {len(labels)} existing faces.\")\n",
    "    else:\n",
    "        embeddings = []\n",
    "        labels = []\n",
    "        print(\"No existing embeddings found. Starting fresh.\")\n",
    "\n",
    "    for filename in os.listdir(folder):\n",
    "        if filename.endswith(\".jpg\") or filename.endswith(\".png\"):\n",
    "            image_path = os.path.join(folder, filename)\n",
    "\n",
    "            image = cv2.imread(image_path)\n",
    "            rgb_image = cv2.cvtColor(image, cv2.COLOR_BGR2RGB)\n",
    "\n",
    "            detections = detector.detect_faces(rgb_image)\n",
    "\n",
    "            for detection in detections:\n",
    "                x, y, width, height = detection[\"box\"]\n",
    "                face = rgb_image[y : y + height, x : x + width]\n",
    "                # Use FaceNet to compute face embeddings\n",
    "                face_embedding = embedder.embeddings([face])\n",
    "\n",
    "                # Append the face embeddings\n",
    "                embeddings.append(face_embedding[0])\n",
    "\n",
    "                # Assume filename corresponds to the label (e.g., student name)\n",
    "                labels.append(label_name)\n",
    "\n",
    "    return embeddings, labels"
   ]
  },
  {
   "cell_type": "code",
   "execution_count": 11,
   "metadata": {},
   "outputs": [
    {
     "ename": "FileNotFoundError",
     "evalue": "[Errno 2] No such file or directory: 'shyam'",
     "output_type": "error",
     "traceback": [
      "\u001b[0;31m---------------------------------------------------------------------------\u001b[0m",
      "\u001b[0;31mFileNotFoundError\u001b[0m                         Traceback (most recent call last)",
      "Cell \u001b[0;32mIn[11], line 2\u001b[0m\n\u001b[1;32m      1\u001b[0m \u001b[38;5;28;01mfor\u001b[39;00m _img \u001b[38;5;129;01min\u001b[39;00m agumented_images:\n\u001b[0;32m----> 2\u001b[0m   \u001b[38;5;28mdir\u001b[39m \u001b[38;5;241m=\u001b[39m \u001b[43mos\u001b[49m\u001b[38;5;241;43m.\u001b[39;49m\u001b[43mlistdir\u001b[49m\u001b[43m(\u001b[49m\u001b[43m_img\u001b[49m\u001b[43m)\u001b[49m\n\u001b[1;32m      3\u001b[0m   label_name \u001b[38;5;241m=\u001b[39m _img\u001b[38;5;241m.\u001b[39msplit(\u001b[38;5;124m\"\u001b[39m\u001b[38;5;124m.\u001b[39m\u001b[38;5;124m\"\u001b[39m)[\u001b[38;5;241m0\u001b[39m]\n\u001b[1;32m      4\u001b[0m   augmented_frame_output_dir \u001b[38;5;241m=\u001b[39m augment_output_folder \u001b[38;5;241m+\u001b[39m label_name\n",
      "\u001b[0;31mFileNotFoundError\u001b[0m: [Errno 2] No such file or directory: 'shyam'"
     ]
    }
   ],
   "source": [
    "for _img in agumented_images:\n",
    "  label_name = _img.split(\".\")[0]\n",
    "  augmented_frame_output_dir = augment_output_folder + label_name\n",
    "  \n",
    "  print(f\"Processing {label_name}...\")\n",
    "  \n",
    "  face_embeddings, face_labels = generate_embedding_and_label(augmented_frame_output_dir, _img)\n",
    "  np.save(\"./model/face_embeddings.npy\", face_embeddings)\n",
    "  np.save(\"./model/face_labels.npy\", face_labels)"
   ]
  },
  {
   "cell_type": "code",
   "execution_count": null,
   "metadata": {},
   "outputs": [],
   "source": [
    "embeddings = (np.load(\"./model/face_embeddings.npy\", allow_pickle=True))\n",
    "labels = (np.load(\"./model/face_labels.npy\", allow_pickle=True))"
   ]
  },
  {
   "cell_type": "code",
   "execution_count": null,
   "metadata": {},
   "outputs": [],
   "source": [
    "embeddings.shape, labels.shape"
   ]
  }
 ],
 "metadata": {
  "kernelspec": {
   "display_name": "Python 3",
   "language": "python",
   "name": "python3"
  },
  "language_info": {
   "codemirror_mode": {
    "name": "ipython",
    "version": 3
   },
   "file_extension": ".py",
   "mimetype": "text/x-python",
   "name": "python",
   "nbconvert_exporter": "python",
   "pygments_lexer": "ipython3",
   "version": "3.12.2"
  }
 },
 "nbformat": 4,
 "nbformat_minor": 2
}
